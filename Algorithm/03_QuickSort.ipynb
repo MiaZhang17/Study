{
 "cells": [
  {
   "cell_type": "markdown",
   "metadata": {},
   "source": [
    "## Quick Sort\n",
    "\n",
    "**Merge sort**是新增一List儲存排序後的資料，如果資料量大，需要的記憶體空間會很多\n",
    "\n",
    "**Quick sort**直接在原List進行排序，不需要額外的記憶體空間\n",
    "\n",
    "#### 1.隨機選擇一數字做為`pivot`，後續所有資料都跟`pivot`比大小\n",
    "\n",
    "#### 2.將`pivot`移到最後面\n",
    "\n",
    "#### 3.檢查所有元素\n",
    "- **3-1.如果目前數字 < pivot，swap(目前數字, less_than_idx)，less_than_idx往後移一格**\n",
    "- **3-2.如果目前數字 >= pivot，continue直接看下一個元素**\n",
    "- less_than_idx：在此index前的所有數字皆 < pivot\n",
    "- idx：遍歷所有index\n",
    "\n",
    "#### 4.swap (less_than_idx,  pivot)\n",
    "- pivot前的所有元素皆 < pivot\n",
    "- pivot後的所有元素皆 > pivot\n",
    "- **pivot這個值完成排序**\n",
    "\n",
    "#### 5. pivot 前、後的 list 重複1~4步驟，直到`pivot`前後元素 <= 1\n",
    "\n",
    "<img src=\"https://github.com/MiaZhang17/Study/blob/main/Algorithm/pictures/quick_sort_1.png?raw=true\" style=\"width:600px;\"/>\n",
    "\n",
    "#### 第一次排序完成後，繼續排序`pivot`左邊的list [1, 2]\n",
    "- 1.隨機選擇一數字做為`pivot`，後續所有資料都跟`pivot`比大小\n",
    "- 2.將`pivot`移到最後面\n",
    "- 3.檢查所有元素\n",
    "- 4.swap (less_than_idx,  pivot)\n",
    "- 5.pivot 前、後的 list 重複1~4步驟，直到`pivot`前後元素 <= 1\n",
    "\n",
    "<img src=\"https://github.com/MiaZhang17/Study/blob/main/Algorithm/pictures/quick_sort_2.png?raw=true\" style=\"width:600px;\"/>"
   ]
  },
  {
   "cell_type": "code",
   "execution_count": 20,
   "metadata": {},
   "outputs": [
    {
     "name": "stdout",
     "output_type": "stream",
     "text": [
      "[4, 3, 1, 2]\n",
      "\n",
      "Running quicksort on [4, 3, 1, 2]\n",
      "Selected pivot 3\n",
      "Start [4, 2, 1, 3]\n",
      "Swapping 4 with 2 [2, 4, 1, 3] 0\n",
      "Swapping 4 with 1 [2, 1, 4, 3] 1\n",
      "[2, 1, 3, 4] successfully partitioned\n",
      "\n",
      "Running quicksort on [2, 1]\n",
      "Selected pivot 2\n",
      "Start [1, 2, 3, 4]\n",
      "Swapping 1 with 1 [1, 2, 3, 4] 0\n",
      "[1, 2] successfully partitioned\n",
      "None\n",
      "POST SORT:  [1, 2, 3, 4]\n"
     ]
    }
   ],
   "source": [
    "from random import randrange, shuffle\n",
    "\n",
    "def quicksort(list, start, end):\n",
    "    # this portion of list has been sorted\n",
    "    if start >= end:\n",
    "        return\n",
    "    print(\"\\nRunning quicksort on {0}\".format(list[start: end + 1]))\n",
    "    # select random element to be pivot\n",
    "    pivot_idx = randrange(start, end + 1)\n",
    "    pivot_element = list[pivot_idx]\n",
    "    print(\"Selected pivot {0}\".format(pivot_element))\n",
    "    # swap random element with last element in sub-lists\n",
    "    list[end], list[pivot_idx] = list[pivot_idx], list[end]\n",
    "\n",
    "    # tracks all elements which should be to left (lesser than) pivot\n",
    "    less_than_pointer = start\n",
    "    print('Start', list)\n",
    "    for i in range(start, end):\n",
    "        # we found an element out of place\n",
    "        if list[i] < pivot_element:\n",
    "            # swap element to the right-most portion of lesser elements\n",
    "\n",
    "            list[i], list[less_than_pointer] = list[less_than_pointer], list[i]\n",
    "            print(\"Swapping {0} with {1}\".format(list[i], list[less_than_pointer]), list, less_than_pointer)\n",
    "            # tally that we have one more lesser element\n",
    "            less_than_pointer += 1\n",
    "    # move pivot element to the right-most portion of lesser elements\n",
    "    list[end], list[less_than_pointer] = list[less_than_pointer], list[end]\n",
    "    print(\"{0} successfully partitioned\".format(list[start: end + 1]))\n",
    "    # recursively sort left and right sub-lists\n",
    "    quicksort(list, start, less_than_pointer - 1)\n",
    "    quicksort(list, less_than_pointer + 1, end)\n",
    "\n",
    "list = [4, 3, 1, 2]\n",
    "# shuffle(list)\n",
    "print(list)\n",
    "print(quicksort(list, 0, len(list) -1))\n",
    "print(\"POST SORT: \", list)\n"
   ]
  },
  {
   "cell_type": "code",
   "execution_count": null,
   "metadata": {},
   "outputs": [],
   "source": []
  },
  {
   "cell_type": "code",
   "execution_count": null,
   "metadata": {},
   "outputs": [],
   "source": []
  }
 ],
 "metadata": {
  "kernelspec": {
   "display_name": "Python 3",
   "language": "python",
   "name": "python3"
  },
  "language_info": {
   "codemirror_mode": {
    "name": "ipython",
    "version": 3
   },
   "file_extension": ".py",
   "mimetype": "text/x-python",
   "name": "python",
   "nbconvert_exporter": "python",
   "pygments_lexer": "ipython3",
   "version": "3.7.9"
  }
 },
 "nbformat": 4,
 "nbformat_minor": 4
}
