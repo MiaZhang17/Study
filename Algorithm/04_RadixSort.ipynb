{
 "cells": [
  {
   "cell_type": "markdown",
   "metadata": {},
   "source": [
    "## Radix Sort\n",
    "\n",
    "#### 1.計算list中最大有幾位數\n",
    "\n",
    "#### 2.有10個籃子，index為 0~9\n",
    "\n",
    "#### 3.比較list中所有元素的`個位數`，相同`個位數`的元素放到同一個籃子中\n",
    "\n",
    "#### 4.依序取出籃子中的元素，更新原本的list\n",
    "\n",
    "<img src=\"https://github.com/MiaZhang17/Study/blob/main/Algorithm/pictures/radix_sort_1.png?raw=true\" style=\"width:400px;\"/>\n",
    "\n",
    "#### 重複3~4步驟，直到最大位數\n",
    "\n",
    "#### 5.比較list中所有元素的`十位數`，相同`十位數`的元素放到同一個籃子中\n",
    "\n",
    "#### 6.依序取出籃子中的元素，更新原本的list\n",
    "\n",
    "<img src=\"https://github.com/MiaZhang17/Study/blob/main/Algorithm/pictures/radix_sort_2.png?raw=true\" style=\"width:400px;\"/>\n",
    "\n",
    "#### 7.比較list中所有元素的`百位數`，相同`百位數`的元素放到同一個籃子中\n",
    "\n",
    "#### 8.依序取出籃子中的元素，更新原本的list\n",
    "\n",
    "排序完成\n",
    "\n",
    "<img src=\"https://github.com/MiaZhang17/Study/blob/main/Algorithm/pictures/radix_sort_3.png?raw=true\" style=\"width:400px;\"/>\n",
    "\n"
   ]
  },
  {
   "cell_type": "code",
   "execution_count": 1,
   "metadata": {},
   "outputs": [
    {
     "name": "stdout",
     "output_type": "stream",
     "text": [
      "[32, 102, 42, 5, 1, 51, 49]\n",
      "[1, 51]\n",
      "[32, 102, 42]\n",
      "[5]\n",
      "[49]\n",
      "依倒數第0位數排序 [1, 51, 32, 102, 42, 5, 49] \n",
      "\n",
      "[1, 102, 5]\n",
      "[32]\n",
      "[42, 49]\n",
      "[51]\n",
      "依倒數第1位數排序 [1, 102, 5, 32, 42, 49, 51] \n",
      "\n",
      "[1, 5, 32, 42, 49, 51]\n",
      "[102]\n",
      "依倒數第2位數排序 [1, 5, 32, 42, 49, 51, 102] \n",
      "\n",
      "[1, 5, 32, 42, 49, 51, 102]\n"
     ]
    }
   ],
   "source": [
    "def radix_sort(to_be_sorted):\n",
    "    print(to_be_sorted)\n",
    "    maximum_value = max(to_be_sorted)\n",
    "    max_exponent = len(str(maximum_value))\n",
    "    being_sorted = to_be_sorted[:]\n",
    "\n",
    "    for exponent in range(max_exponent):\n",
    "        position = exponent + 1\n",
    "        index = -position\n",
    "\n",
    "        digits = [[] for i in range(10)]\n",
    "\n",
    "        for number in being_sorted:\n",
    "            number_as_a_string = str(number)\n",
    "            try:\n",
    "                digit = number_as_a_string[index]\n",
    "            except IndexError:\n",
    "                digit = 0\n",
    "            digit = int(digit)\n",
    "\n",
    "            digits[digit].append(number)\n",
    "\n",
    "        being_sorted = []\n",
    "        for numeral in digits:\n",
    "            being_sorted.extend(numeral)\n",
    "        for i in digits:\n",
    "            if len(i)>0:\n",
    "                print(i)\n",
    "        print(f'依倒數第{exponent}位數排序', being_sorted, '\\n')\n",
    "            \n",
    "    return being_sorted\n",
    "\n",
    "unsorted_list = [32, 102, 42, 5, 1, 51, 49]\n",
    "\n",
    "print(radix_sort(unsorted_list))"
   ]
  },
  {
   "cell_type": "code",
   "execution_count": null,
   "metadata": {},
   "outputs": [],
   "source": []
  }
 ],
 "metadata": {
  "kernelspec": {
   "display_name": "Python 3",
   "language": "python",
   "name": "python3"
  },
  "language_info": {
   "codemirror_mode": {
    "name": "ipython",
    "version": 3
   },
   "file_extension": ".py",
   "mimetype": "text/x-python",
   "name": "python",
   "nbconvert_exporter": "python",
   "pygments_lexer": "ipython3",
   "version": "3.7.9"
  }
 },
 "nbformat": 4,
 "nbformat_minor": 4
}
