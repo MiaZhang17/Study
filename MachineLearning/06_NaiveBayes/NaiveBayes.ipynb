{
 "cells": [
  {
   "cell_type": "markdown",
   "metadata": {},
   "source": [
    "## Naive Bayes \n",
    "\n",
    "\n",
    "#### 若A、B事件互相獨立，A、B事件同時發生的機率為\n",
    "$P(A\\bigcap B) = P(A) \\times P(B)$\n",
    "\n",
    "#### 貝氏定理\n",
    "\n",
    "$$P(A|B) = \\frac{P(B|A) \\times P(A)}{P(B)}$$\n",
    "\n",
    "#### 已知檢測為陽性，確診癌症的機率\n",
    "\n",
    "$$P(癌症|陽性) = \\frac{P(陽性|癌症) \\times P(癌症)}{P(陽性)}$$"
   ]
  },
  {
   "cell_type": "markdown",
   "metadata": {},
   "source": [
    "#### 範例\n",
    "- 癌症：0.001%\n",
    "- 檢測準確度：99%\n",
    "\n",
    "**檢測出陽性的話有2種可能性**\n",
    "- 癌症 & 檢測正確\n",
    "- 不是癌症 & 檢測錯誤"
   ]
  },
  {
   "cell_type": "code",
   "execution_count": 5,
   "metadata": {},
   "outputs": [
    {
     "name": "stdout",
     "output_type": "stream",
     "text": [
      "p_disease_and_correct： 9.9e-06\n",
      "p_no_disease_and_incorrect： 0.00999990000000001\n"
     ]
    }
   ],
   "source": [
    "import numpy as np\n",
    "\n",
    "p_disease = 1/100000\n",
    "p_correct = 0.99\n",
    "\n",
    "p_disease_and_correct = p_disease * p_correct\n",
    "\n",
    "p_no_disease_and_incorrect = (1 - p_disease) * (1 - p_correct)\n",
    "\n",
    "print('p_disease_and_correct：', p_disease_and_correct)\n",
    "print('p_no_disease_and_incorrect：', p_no_disease_and_incorrect)"
   ]
  },
  {
   "cell_type": "code",
   "execution_count": 6,
   "metadata": {},
   "outputs": [
    {
     "name": "stdout",
     "output_type": "stream",
     "text": [
      "0.9800999999999999\n",
      "0.00097914044236648\n"
     ]
    }
   ],
   "source": [
    "import numpy as np\n",
    "\n",
    "p_disease = 1/100000\n",
    "p_correct = 0.99\n",
    "\n",
    "# P(陽性) = P(癌症) * P(檢測正確) + P(沒癌症) * P(檢測錯誤)\n",
    "p_positive = p_disease * p_correct + (1-p_disease) * (1-p_correct)\n",
    "\n",
    "# P(癌症|陽性) = P(陽性|癌症) * P(癌症) / P(陽性)\n",
    "p_disease_given_positive = p_positive_given_disease * p_disease / p_positive\n",
    "print(p_disease_given_positive)"
   ]
  },
  {
   "cell_type": "markdown",
   "metadata": {},
   "source": [
    "## Sklearn"
   ]
  },
  {
   "cell_type": "code",
   "execution_count": 8,
   "metadata": {},
   "outputs": [
    {
     "name": "stdout",
     "output_type": "stream",
     "text": [
      "(796, 23714)\n",
      "0.9723618090452262\n"
     ]
    }
   ],
   "source": [
    "from sklearn.datasets import fetch_20newsgroups\n",
    "from sklearn.naive_bayes import MultinomialNB\n",
    "from sklearn.feature_extraction.text import CountVectorizer\n",
    "\n",
    "train_emails = fetch_20newsgroups(categories=['rec.sport.baseball', 'rec.sport.hockey'], subset='train', shuffle=True, random_state=108)\n",
    "\n",
    "# print(train_emails.target_names)\n",
    "# print(train_emails.data[5])\n",
    "# print(train_emails.target[5])\n",
    "# print(train_emails.target_names[train_emails.target[5]])\n",
    "\n",
    "test_emails = fetch_20newsgroups(categories=['rec.sport.baseball', 'rec.sport.hockey'], subset='test', shuffle=True, random_state=108)\n",
    "\n",
    "counter = CountVectorizer()\n",
    "counter.fit(test_emails.data + train_emails.data)\n",
    "\n",
    "train_counts = counter.transform(train_emails.data)\n",
    "\n",
    "test_counts = counter.transform(test_emails.data)\n",
    "print(test_counts.shape)\n",
    "\n",
    "\n",
    "classifier = MultinomialNB()\n",
    "classifier.fit(train_counts, train_emails.target)\n",
    "print(classifier.score(test_counts, test_emails.target))"
   ]
  },
  {
   "cell_type": "code",
   "execution_count": null,
   "metadata": {},
   "outputs": [],
   "source": []
  }
 ],
 "metadata": {
  "kernelspec": {
   "display_name": "Python 3",
   "language": "python",
   "name": "python3"
  },
  "language_info": {
   "codemirror_mode": {
    "name": "ipython",
    "version": 3
   },
   "file_extension": ".py",
   "mimetype": "text/x-python",
   "name": "python",
   "nbconvert_exporter": "python",
   "pygments_lexer": "ipython3",
   "version": "3.7.9"
  }
 },
 "nbformat": 4,
 "nbformat_minor": 4
}
