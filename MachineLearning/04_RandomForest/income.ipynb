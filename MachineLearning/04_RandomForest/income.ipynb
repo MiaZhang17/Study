{
 "cells": [
  {
   "cell_type": "code",
   "execution_count": 2,
   "metadata": {},
   "outputs": [
    {
     "name": "stdout",
     "output_type": "stream",
     "text": [
      "could not convert string to float: 'Female'\n"
     ]
    }
   ],
   "source": [
    "def warn(*args, **kwargs):\n",
    "    pass\n",
    "import warnings\n",
    "warnings.warn = warn\n",
    "\n",
    "import pandas as pd\n",
    "from sklearn.model_selection import train_test_split\n",
    "from sklearn import tree\n",
    "from sklearn.ensemble import RandomForestClassifier\n",
    "\n",
    "income_data = pd.read_csv('income.csv', header=0, delimiter=\", \")\n",
    "# print(income_data.iloc[0])\n",
    "\n",
    "labels = income_data[['income']]\n",
    "lst_cols = ['age', 'capital-gain', 'capital-loss', 'hours-per-week', 'sex']\n",
    "data = income_data[lst_cols]\n",
    "\n",
    "train_data, test_data, train_labels, test_labels = train_test_split(data, labels, random_state=1)\n",
    "\n",
    "forest = RandomForestClassifier(random_state=1)\n",
    "try:\n",
    "    forest.fit(train_data, train_labels)\n",
    "    score = forest.score(test_data, test_labels)\n",
    "except Exception as e:\n",
    "    print(e)"
   ]
  },
  {
   "cell_type": "markdown",
   "metadata": {},
   "source": [
    "### Random Forest feature 只能是數字"
   ]
  },
  {
   "cell_type": "code",
   "execution_count": 4,
   "metadata": {},
   "outputs": [
    {
     "name": "stdout",
     "output_type": "stream",
     "text": [
      "Forest score: 0.8272939442328953\n",
      "Single Tree score: 0.8253285837120747\n",
      "('age', 0.30549198462772437)\n",
      "('capital-gain', 0.30663041586444423)\n",
      "('capital-loss', 0.12440549614580593)\n",
      "('hours-per-week', 0.20108312760895575)\n",
      "('sex-int', 0.062388975753069766)\n"
     ]
    }
   ],
   "source": [
    "income_data['sex-int'] = income_data['sex'].apply(lambda x: 0 if x=='Male' else 1)\n",
    "\n",
    "lst_cols = ['age', 'capital-gain', 'capital-loss', 'hours-per-week', 'sex-int']\n",
    "data = income_data[lst_cols]\n",
    "\n",
    "train_data, test_data, train_labels, test_labels = train_test_split(data, labels, random_state=1)\n",
    "\n",
    "forest = RandomForestClassifier(random_state=1)\n",
    "forest.fit(train_data, train_labels)\n",
    "score = forest.score(test_data, test_labels)\n",
    "print('Forest score:', score)\n",
    "\n",
    "single_tree = tree.DecisionTreeClassifier(random_state=1)\n",
    "single_tree.fit(train_data, train_labels)\n",
    "print('Single Tree score:', single_tree.score(test_data, test_labels))\n",
    "\n",
    "for i in zip(lst_cols, forest.feature_importances_):\n",
    "    print(i)"
   ]
  },
  {
   "cell_type": "markdown",
   "metadata": {},
   "source": [
    "### string 轉成 int 時，需注意是否有順序、大小關係\n",
    "- 若設美國：1, 墨西哥：2, 菲律賓：3，會被視為墨西哥與菲律賓的距離 比美國與菲律賓的距離小，意義錯誤\n",
    "- 這裡設美國：0, 其餘皆為：1"
   ]
  },
  {
   "cell_type": "code",
   "execution_count": 6,
   "metadata": {},
   "outputs": [
    {
     "name": "stdout",
     "output_type": "stream",
     "text": [
      "United-States    29170\n",
      "Mexico             643\n",
      "?                  583\n",
      "Philippines        198\n",
      "Name: native-country, dtype: int64\n"
     ]
    }
   ],
   "source": [
    "print(income_data['native-country'].value_counts()[:4])"
   ]
  },
  {
   "cell_type": "code",
   "execution_count": 7,
   "metadata": {},
   "outputs": [
    {
     "name": "stdout",
     "output_type": "stream",
     "text": [
      "Forest score: 0.8225033779633951\n",
      "Single Tree score: 0.8226262129959464\n",
      "('age', 0.31351873523247886)\n",
      "('capital-gain', 0.29270793491347497)\n",
      "('capital-loss', 0.1174545721257282)\n",
      "('hours-per-week', 0.20309967949670482)\n",
      "('sex-int', 0.0643516046682865)\n",
      "('country-int', 0.008867473563326705)\n"
     ]
    }
   ],
   "source": [
    "income_data['sex-int'] = income_data['sex'].apply(lambda x: 0 if x=='Male' else 1)\n",
    "\n",
    "income_data['country-int'] = income_data['native-country'].apply(lambda x:0 if x=='United-States' else 1)\n",
    "\n",
    "lst_cols = ['age', 'capital-gain', 'capital-loss', 'hours-per-week', 'sex-int', 'country-int']\n",
    "data = income_data[lst_cols]\n",
    "\n",
    "train_data, test_data, train_labels, test_labels = train_test_split(data, labels, random_state=1)\n",
    "\n",
    "forest = RandomForestClassifier(random_state=1)\n",
    "forest.fit(train_data, train_labels)\n",
    "score = forest.score(test_data, test_labels)\n",
    "print('Forest score:', score)\n",
    "\n",
    "single_tree = tree.DecisionTreeClassifier(random_state=1)\n",
    "single_tree.fit(train_data, train_labels)\n",
    "print('Single Tree score:', single_tree.score(test_data, test_labels))\n",
    "\n",
    "for i in zip(lst_cols, forest.feature_importances_):\n",
    "    print(i)"
   ]
  },
  {
   "cell_type": "code",
   "execution_count": null,
   "metadata": {},
   "outputs": [],
   "source": []
  }
 ],
 "metadata": {
  "kernelspec": {
   "display_name": "Python 3",
   "language": "python",
   "name": "python3"
  },
  "language_info": {
   "codemirror_mode": {
    "name": "ipython",
    "version": 3
   },
   "file_extension": ".py",
   "mimetype": "text/x-python",
   "name": "python",
   "nbconvert_exporter": "python",
   "pygments_lexer": "ipython3",
   "version": "3.7.9"
  }
 },
 "nbformat": 4,
 "nbformat_minor": 4
}
