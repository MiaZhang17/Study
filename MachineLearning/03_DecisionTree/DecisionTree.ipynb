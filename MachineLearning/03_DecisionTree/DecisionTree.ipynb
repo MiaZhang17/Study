{
 "cells": [
  {
   "cell_type": "markdown",
   "metadata": {},
   "source": [
    "# Decision Tree"
   ]
  },
  {
   "cell_type": "code",
   "execution_count": 1,
   "metadata": {},
   "outputs": [
    {
     "name": "stdout",
     "output_type": "stream",
     "text": [
      "acc\n"
     ]
    }
   ],
   "source": [
    "from tree import tree, classify\n",
    "\n",
    "car = ['med', 'med', '4', '4', 'big', 'med']\n",
    "print(classify(car, tree))"
   ]
  },
  {
   "cell_type": "markdown",
   "metadata": {},
   "source": [
    "# 計算分類好壞\n",
    "**是否在松山區?**分類，仍無法將2種類別資料完全區分開來，若依**是否近捷運?**分類，則可完全分出2種類別的資料，\n",
    "\n",
    "可透過計算分類後 \"不純度\"，決定要以哪個**feature**來分類\n",
    "\n",
    "<img src=\"https://github.com/MiaZhang17/MachineLearning/blob/main/piecures/gini_impurity.png?raw=true\" alt=\"drawing\" style=\"width:500px;\"/>"
   ]
  },
  {
   "cell_type": "markdown",
   "metadata": {},
   "source": [
    "## 計算 Gini Impurity\n",
    "group {A, A, A, B}\n",
    "\n",
    "$Impurity = 1 - (\\frac{3}{4})^2 - (\\frac{1}{4})^2 = 0.375$\n",
    "\n",
    "## 計算 Information gain\n",
    "一開始Impurity = 0.5\n",
    "\n",
    "1.依 是否近捷運分類\n",
    "\n",
    "- Information gain： $ 0.5 - 0 - 0 = 0.5$\n",
    "\n",
    "2.依 是否在松山區分類\n",
    " - Information gain： $ 0.5 - 0.75 - 0.44 = -0.69$\n"
   ]
  },
  {
   "cell_type": "markdown",
   "metadata": {},
   "source": [
    "## 增加權重\n",
    "分類後各Subset內含有多少資料也很重要，即使是一樣的Impurity，數量愈多愈有意義\n",
    "\n",
    "若一樣都是Impurity = 0，數量多代表此分類不是個**意外或不小心**分出來的結果，代表有很多筆資料都具有此種特性\n",
    "\n",
    "<img src=\"https://github.com/MiaZhang17/MachineLearning/blob/main/piecures/gini_impurity_number.png?raw=true\" alt=\"drawing\" style=\"width:300px;\"/>\n",
    "\n",
    "依Subset數量計算權重\n",
    "\n",
    "<img src=\"https://github.com/MiaZhang17/MachineLearning/blob/main/piecures/gini_impurity_weight.png?raw=true\" alt=\"drawing\" style=\"width:500px;\"/>"
   ]
  },
  {
   "cell_type": "markdown",
   "metadata": {},
   "source": [
    "\n",
    "一開始Impurity = 0.5\n",
    "\n",
    "1.依 **是否近捷運**分類\n",
    "\n",
    " - Weight Information Gain = $0.5 - (\\frac{5}{10} \\times 0) - (\\frac{5}{10} \\times 0) = 0.5$\n",
    "\n",
    "2.依 **是否在松山區**分類\n",
    "\n",
    " - Weight Information Gain = $0.5 - (\\frac{4}{10} \\times 0.375) - (\\frac{6}{10} \\times 0.44) = 0.086$\n",
    "\n"
   ]
  },
  {
   "cell_type": "code",
   "execution_count": 2,
   "metadata": {},
   "outputs": [
    {
     "data": {
      "text/plain": [
       "0.08599999999999997"
      ]
     },
     "execution_count": 2,
     "metadata": {},
     "output_type": "execute_result"
    }
   ],
   "source": [
    "0.5 - (0.4*0.375) - (0.6*0.44)"
   ]
  },
  {
   "cell_type": "code",
   "execution_count": 3,
   "metadata": {},
   "outputs": [
    {
     "name": "stdout",
     "output_type": "stream",
     "text": [
      "Counter({'unacc': 2, 'acc': 2, 'good': 2})\n",
      "unacc 0.3333333333333333\n",
      "acc 0.3333333333333333\n",
      "good 0.3333333333333333\n",
      "impurity:0.6666666666666665\n"
     ]
    }
   ],
   "source": [
    "# Inpurity\n",
    "from collections import Counter\n",
    "\n",
    "labels = [\"unacc\", \"unacc\", \"acc\", \"acc\", \"good\", \"good\"]\n",
    "#labels = [\"unacc\",\"unacc\",\"unacc\", \"good\", \"vgood\", \"vgood\"]\n",
    "#labels = [\"unacc\", \"unacc\", \"unacc\", \"unacc\", \"unacc\", \"unacc\"]\n",
    "\n",
    "impurity = 1\n",
    "label_counts = Counter(labels)\n",
    "print(label_counts)\n",
    "for label in label_counts:\n",
    "    probability_of_label = label_counts[label] / len(labels)\n",
    "    impurity -= probability_of_label ** 2\n",
    "    print(label, probability_of_label)\n",
    "print(f'impurity:{impurity}')"
   ]
  },
  {
   "cell_type": "code",
   "execution_count": 4,
   "metadata": {},
   "outputs": [
    {
     "name": "stdout",
     "output_type": "stream",
     "text": [
      "0.14522609394404257\n",
      "0.15905325443786977\n"
     ]
    }
   ],
   "source": [
    "# Information gain\n",
    "from collections import Counter\n",
    "\n",
    "unsplit_labels = [\"unacc\", \"unacc\", \"unacc\", \"unacc\", \"unacc\", \"unacc\", \"good\", \"good\", \"good\", \"good\", \"vgood\", \"vgood\", \"vgood\"]\n",
    "\n",
    "split_labels_1 = [\n",
    "  [\"unacc\", \"unacc\", \"unacc\", \"unacc\", \"unacc\", \"unacc\", \"good\", \"good\", \"vgood\"], \n",
    "  [ \"good\", \"good\"], \n",
    "  [\"vgood\", \"vgood\"]\n",
    "]\n",
    "\n",
    "split_labels_2 = [\n",
    "  [\"unacc\", \"unacc\", \"unacc\", \"unacc\",\"unacc\", \"unacc\", \"good\", \"good\", \"good\", \"good\"], \n",
    "  [\"vgood\", \"vgood\", \"vgood\"]\n",
    "]\n",
    "\n",
    "def gini(dataset):\n",
    "    impurity = 1\n",
    "    label_counts = Counter(dataset)\n",
    "    for label in label_counts:\n",
    "        prob_of_label = label_counts[label] / len(dataset)\n",
    "        impurity -= prob_of_label ** 2\n",
    "    return impurity\n",
    "\n",
    "info_gain = gini(unsplit_labels)\n",
    "for sub in split_labels_1:\n",
    "    info_gain -= gini(sub)\n",
    "print(info_gain)\n",
    "\n",
    "info_gain = gini(unsplit_labels)\n",
    "for sub in split_labels_2:\n",
    "    info_gain -= gini(sub)\n",
    "print(info_gain)"
   ]
  },
  {
   "cell_type": "code",
   "execution_count": 5,
   "metadata": {},
   "outputs": [
    {
     "name": "stdout",
     "output_type": "stream",
     "text": [
      "3\n",
      "[['high', 'med', '3', '2', 'med', 'low'], ['med', 'low', '5more', '2', 'big', 'med'], ['vhigh', 'vhigh', '2', '2', 'med', 'low'], ['high', 'med', '4', '2', 'big', 'low']]\n",
      "[['med', 'low', '3', '4', 'med', 'med'], ['med', 'low', '4', '4', 'med', 'low'], ['low', 'low', '2', '4', 'big', 'med']]\n",
      "0.3066666666666667\n",
      "0.27333333333333343\n",
      "0.04000000000000001\n",
      "0.10666666666666669\n",
      "0.3066666666666667\n",
      "0.15000000000000002\n",
      "0.29000000000000004\n"
     ]
    }
   ],
   "source": [
    "# weight Information gain\n",
    "\n",
    "from collections import Counter\n",
    "\n",
    "cars = [['med', 'low', '3', '4', 'med', 'med'], ['med', 'vhigh', '4', 'more', 'small', 'high'], ['high', 'med', '3', '2', 'med', 'low'], ['med', 'low', '4', '4', 'med', 'low'], ['med', 'low', '5more', '2', 'big', 'med'], ['med', 'med', '2', 'more', 'big', 'high'], ['med', 'med', '2', 'more', 'med', 'med'], ['vhigh', 'vhigh', '2', '2', 'med', 'low'], ['high', 'med', '4', '2', 'big', 'low'], ['low', 'low', '2', '4', 'big', 'med']]\n",
    "\n",
    "car_labels = ['acc', 'acc', 'unacc', 'unacc', 'unacc', 'vgood', 'acc', 'unacc', 'unacc', 'good']\n",
    "\n",
    "def split(dataset, labels, column):\n",
    "    data_subsets = []\n",
    "    label_subsets = []\n",
    "    counts = list(set([data[column] for data in dataset]))\n",
    "    counts.sort()\n",
    "    for k in counts:\n",
    "        new_data_subset = []\n",
    "        new_label_subset = []\n",
    "        for i in range(len(dataset)):\n",
    "            if dataset[i][column] == k:\n",
    "                new_data_subset.append(dataset[i])\n",
    "                new_label_subset.append(labels[i])\n",
    "        data_subsets.append(new_data_subset)\n",
    "        label_subsets.append(new_label_subset)\n",
    "    return data_subsets, label_subsets\n",
    "\n",
    "def gini(dataset):\n",
    "    impurity = 1\n",
    "    label_counts = Counter(dataset)\n",
    "    for label in label_counts:\n",
    "        prob_of_label = label_counts[label] / len(dataset)\n",
    "        impurity -= prob_of_label ** 2\n",
    "    return impurity\n",
    "\n",
    "def information_gain(starting_labels, split_labels):\n",
    "    info_gain = gini(starting_labels)\n",
    "    count = len(starting_labels)\n",
    "    for subset in split_labels:\n",
    "        # Multiply gini(subset) by the correct percentage below\n",
    "        info_gain -= gini(subset) * len(subset) / count\n",
    "    return info_gain\n",
    "\n",
    "split_data, split_labels = split(cars, car_labels, 3)\n",
    "print(len(split_data))\n",
    "print(split_data[0])\n",
    "print(split_data[1])\n",
    "\n",
    "result = information_gain(car_labels, split_labels)\n",
    "print(result)\n",
    "\n",
    "for i in range(6):\n",
    "    split_data, split_labels = split(cars, car_labels, i)\n",
    "    result = information_gain(car_labels, split_labels)\n",
    "    print(result)"
   ]
  },
  {
   "cell_type": "markdown",
   "metadata": {},
   "source": [
    "## Recursive Create Tree "
   ]
  },
  {
   "cell_type": "code",
   "execution_count": 6,
   "metadata": {},
   "outputs": [
    {
     "name": "stdout",
     "output_type": "stream",
     "text": [
      "3 0.3066666666666667\n",
      "Splitting\n",
      "--> Branch 0:\n",
      "  Counter({'unacc': 4})\n",
      "--> Branch 1:\n",
      "  Splitting\n",
      "  --> Branch 0:\n",
      "    Counter({'good': 1})\n",
      "  --> Branch 1:\n",
      "    Counter({'acc': 1})\n",
      "  --> Branch 2:\n",
      "    Counter({'unacc': 1})\n",
      "--> Branch 2:\n",
      "  Splitting\n",
      "  --> Branch 0:\n",
      "    Counter({'vgood': 1})\n",
      "  --> Branch 1:\n",
      "    Counter({'acc': 1})\n",
      "  --> Branch 2:\n",
      "    Counter({'acc': 1})\n"
     ]
    }
   ],
   "source": [
    "from tree2 import *\n",
    "\n",
    "car_data = [['med', 'low', '3', '4', 'med', 'med'], ['med', 'vhigh', '4', 'more', 'small', 'high'], ['high', 'med', '3', '2', 'med', 'low'], ['med', 'low', '4', '4', 'med', 'low'], ['med', 'low', '5more', '2', 'big', 'med'], ['med', 'med', '2', 'more', 'big', 'high'], ['med', 'med', '2', 'more', 'med', 'med'], ['vhigh', 'vhigh', '2', '2', 'med', 'low'], ['high', 'med', '4', '2', 'big', 'low'], ['low', 'low', '2', '4', 'big', 'med']]\n",
    "\n",
    "car_labels = ['acc', 'acc', 'unacc', 'unacc', 'unacc', 'vgood', 'acc', 'unacc', 'unacc', 'good']\n",
    "\n",
    "def find_best_split(dataset, labels):\n",
    "    best_gain = 0\n",
    "    best_feature = 0\n",
    "    for feature in range(len(dataset[0])):\n",
    "        data_subsets, label_subsets = split(dataset, labels, feature)\n",
    "        gain = information_gain(labels, label_subsets)\n",
    "        if gain > best_gain:\n",
    "            best_gain, best_feature = gain, feature\n",
    "    return best_feature, best_gain\n",
    "\n",
    "\n",
    "best_feature, best_gain = find_best_split(car_data, car_labels)\n",
    "print(best_feature, best_gain)\n",
    "\n",
    "def build_tree(data, labels):\n",
    "    best_feature, best_gain = find_best_split(data, labels)\n",
    "    if best_gain == 0:\n",
    "        return Counter(labels)\n",
    "\n",
    "    data_subsets, label_subsets = split(data, labels, best_feature)\n",
    "    branches = []\n",
    "    for i in range(len(data_subsets)):\n",
    "        result = build_tree(data_subsets[i], label_subsets[i])\n",
    "        branches.append(result)\n",
    "\n",
    "    return branches\n",
    "\n",
    "tree = build_tree(car_data, car_labels)\n",
    "print_tree(tree)"
   ]
  },
  {
   "cell_type": "markdown",
   "metadata": {},
   "source": [
    "### 對新的Data進行分類"
   ]
  },
  {
   "cell_type": "code",
   "execution_count": 7,
   "metadata": {},
   "outputs": [
    {
     "name": "stdout",
     "output_type": "stream",
     "text": [
      "dict_items([('unacc', 1)])\n",
      "unacc\n"
     ]
    }
   ],
   "source": [
    "from tree3 import *\n",
    "import operator\n",
    "\n",
    "test_point = ['vhigh', 'low', '3', '4', 'med', 'med']\n",
    "\n",
    "# print_tree(tree)\n",
    "def classify(datapoint, tree):\n",
    "    if isinstance(tree, Leaf):\n",
    "        print(tree.labels.items())\n",
    "        label = max(tree.labels.items(), key=operator.itemgetter(1))[0]\n",
    "        return label\n",
    "  \n",
    "    value = datapoint[tree.feature]\n",
    "    for branch in tree.branches:\n",
    "        if branch.value == value:\n",
    "            return classify(datapoint, branch)\n",
    "\n",
    "result = classify(test_point, tree)\n",
    "print(result)"
   ]
  },
  {
   "cell_type": "markdown",
   "metadata": {},
   "source": [
    "## scikit-learn\n",
    "\n",
    "scikit learn 可直接建立DecisionTree"
   ]
  },
  {
   "cell_type": "code",
   "execution_count": 8,
   "metadata": {},
   "outputs": [
    {
     "name": "stdout",
     "output_type": "stream",
     "text": [
      "[2.0, 4.0, 4.0, 2.0, 3.0, 3.0]\n",
      "acc\n",
      "0.9653179190751445\n"
     ]
    }
   ],
   "source": [
    "from cars import training_points, training_labels, testing_points, testing_labels\n",
    "from sklearn.tree import DecisionTreeClassifier\n",
    "\n",
    "print(training_points[0])\n",
    "print(training_labels[0])\n",
    "\n",
    "classifier = DecisionTreeClassifier()\n",
    "\n",
    "classifier.fit(training_points, training_labels)\n",
    "\n",
    "score = classifier.score(testing_points, testing_labels)\n",
    "print(score)"
   ]
  },
  {
   "cell_type": "markdown",
   "metadata": {},
   "source": [
    "### Decision Tree限制\n",
    "#### 1.深度\n",
    "在每一層選擇分類時，是以**Greddy**方式選擇\n",
    "\n",
    "都是選Impurity最低的特徵進行分類，但這種選擇最終不一定是最好\n",
    "\n",
    "有可能在這一層選擇較差的分類結果，但到下一層能得到更好的分類結果\n",
    "\n",
    "所以要自行測試，選擇出最佳的決策數深度\n",
    "\n",
    "#### 2.容易Overfitting訓練集\n",
    "\n",
    "決策數是完全依訓練集進行分類，有可能符合訓練集的分類並不符合實際情況\n",
    "\n",
    "愈深的決策樹愈容易Overfitting"
   ]
  },
  {
   "cell_type": "code",
   "execution_count": 9,
   "metadata": {},
   "outputs": [
    {
     "name": "stdout",
     "output_type": "stream",
     "text": [
      "Depth:12, 0.976878612716763\n",
      "Depth:11, 0.9826589595375722\n"
     ]
    }
   ],
   "source": [
    "from cars import training_points, training_labels, testing_points, testing_labels\n",
    "from sklearn.tree import DecisionTreeClassifier\n",
    "\n",
    "classifier = DecisionTreeClassifier(random_state = 0)\n",
    "classifier.fit(training_points, training_labels)\n",
    "score = classifier.score(testing_points, testing_labels)\n",
    "print(f\"Depth:{classifier.tree_.max_depth}, {score}\")\n",
    "\n",
    "classifier = DecisionTreeClassifier(max_depth=11, random_state = 0)\n",
    "classifier.fit(training_points, training_labels)\n",
    "score = classifier.score(testing_points, testing_labels)\n",
    "print(f\"Depth:{classifier.tree_.max_depth}, {score}\")"
   ]
  },
  {
   "cell_type": "code",
   "execution_count": null,
   "metadata": {},
   "outputs": [],
   "source": []
  }
 ],
 "metadata": {
  "kernelspec": {
   "display_name": "Python 3",
   "language": "python",
   "name": "python3"
  },
  "language_info": {
   "codemirror_mode": {
    "name": "ipython",
    "version": 3
   },
   "file_extension": ".py",
   "mimetype": "text/x-python",
   "name": "python",
   "nbconvert_exporter": "python",
   "pygments_lexer": "ipython3",
   "version": "3.7.9"
  }
 },
 "nbformat": 4,
 "nbformat_minor": 4
}
