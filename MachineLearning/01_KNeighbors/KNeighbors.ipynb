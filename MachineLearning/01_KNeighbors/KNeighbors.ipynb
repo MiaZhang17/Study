{
 "cells": [
  {
   "cell_type": "markdown",
   "metadata": {},
   "source": [
    "## K-Nearest Neighbors"
   ]
  },
  {
   "cell_type": "markdown",
   "metadata": {},
   "source": [
    "$$Distance = \\sqrt{(A_1 - B_1)^2 + (A_2 - B_2)^2 + ... + (A_n - B_n)^2}$$"
   ]
  },
  {
   "cell_type": "code",
   "execution_count": 1,
   "metadata": {},
   "outputs": [
    {
     "name": "stdout",
     "output_type": "stream",
     "text": [
      "7000000.000008286\n",
      "6000000.000126083\n"
     ]
    }
   ],
   "source": [
    "star_wars = [125, 1977, 11000000]\n",
    "raiders = [115, 1981, 18000000]\n",
    "mean_girls = [97, 2004, 17000000]\n",
    "\n",
    "def distance(movie1, movie2):\n",
    "    distance = 0\n",
    "    for i in range(len(movie1)):\n",
    "        distance += (movie1[i] - movie2[i])**2\n",
    "    distance = distance** 0.5\n",
    "    return distance\n",
    "\n",
    "print(distance(star_wars, raiders))\n",
    "print(distance(star_wars, mean_girls))"
   ]
  },
  {
   "cell_type": "code",
   "execution_count": 2,
   "metadata": {},
   "outputs": [
    {
     "name": "stdout",
     "output_type": "stream",
     "text": [
      "[80000000, 101, 2003]\n",
      "0\n",
      "{'budget': [10000, 380000000], 'runtime': [63, 338], 'release_year': [1916, 2016]}\n"
     ]
    },
    {
     "data": {
      "text/html": [
       "<div>\n",
       "<style scoped>\n",
       "    .dataframe tbody tr th:only-of-type {\n",
       "        vertical-align: middle;\n",
       "    }\n",
       "\n",
       "    .dataframe tbody tr th {\n",
       "        vertical-align: top;\n",
       "    }\n",
       "\n",
       "    .dataframe thead th {\n",
       "        text-align: right;\n",
       "    }\n",
       "</style>\n",
       "<table border=\"1\" class=\"dataframe\">\n",
       "  <thead>\n",
       "    <tr style=\"text-align: right;\">\n",
       "      <th></th>\n",
       "      <th>title</th>\n",
       "      <th>budget</th>\n",
       "      <th>release_year</th>\n",
       "      <th>runtime</th>\n",
       "      <th>vote_average</th>\n",
       "      <th>label</th>\n",
       "    </tr>\n",
       "  </thead>\n",
       "  <tbody>\n",
       "    <tr>\n",
       "      <th>0</th>\n",
       "      <td>Avatar</td>\n",
       "      <td>237000000</td>\n",
       "      <td>2009</td>\n",
       "      <td>162</td>\n",
       "      <td>7.2</td>\n",
       "      <td>1</td>\n",
       "    </tr>\n",
       "    <tr>\n",
       "      <th>1</th>\n",
       "      <td>Pirates of the Caribbean: At World's End</td>\n",
       "      <td>300000000</td>\n",
       "      <td>2007</td>\n",
       "      <td>169</td>\n",
       "      <td>6.9</td>\n",
       "      <td>0</td>\n",
       "    </tr>\n",
       "  </tbody>\n",
       "</table>\n",
       "</div>"
      ],
      "text/plain": [
       "                                      title     budget  release_year  runtime  \\\n",
       "0                                    Avatar  237000000          2009      162   \n",
       "1  Pirates of the Caribbean: At World's End  300000000          2007      169   \n",
       "\n",
       "   vote_average  label  \n",
       "0           7.2      1  \n",
       "1           6.9      0  "
      ]
     },
     "execution_count": 2,
     "metadata": {},
     "output_type": "execute_result"
    }
   ],
   "source": [
    "import pandas as pd\n",
    "df = pd.read_csv('movies.csv', encoding='utf8')\n",
    "movie_dataset = {}\n",
    "movie_labels = {}\n",
    "dic_min_max = {}\n",
    "dic_min_max['budget'] = [min(df['budget']), max(df['budget'])]\n",
    "dic_min_max['runtime'] = [min(df['runtime']), max(df['runtime'])]\n",
    "dic_min_max['release_year'] = [min(df['release_year']), max(df['release_year'])]\n",
    "for i, title in enumerate(df['title']):\n",
    "    movie_dataset[title] = [df.loc[i, 'budget'], df.loc[i, 'runtime'], df.loc[i, 'release_year']]\n",
    "    movie_labels[title] = df.loc[i, 'label']\n",
    "    \n",
    "print(movie_dataset['Bruce Almighty'])\n",
    "print(movie_labels['Bruce Almighty'])\n",
    "print(dic_min_max)\n",
    "df.head(2)"
   ]
  },
  {
   "cell_type": "code",
   "execution_count": 3,
   "metadata": {},
   "outputs": [
    {
     "name": "stdout",
     "output_type": "stream",
     "text": [
      "0\n"
     ]
    }
   ],
   "source": [
    "def distance(movie1, movie2):\n",
    "    squared_difference = 0\n",
    "    for i in range(len(movie1)):\n",
    "        squared_difference += (movie1[i] - movie2[i]) ** 2\n",
    "    final_distance = squared_difference ** 0.5\n",
    "    return final_distance\n",
    "\n",
    "def classify(unknown, dataset, labels, k):\n",
    "    distances = []\n",
    "    #Looping through all points in the dataset\n",
    "    for title in dataset:\n",
    "        movie = dataset[title]\n",
    "        distance_to_point = distance(movie, unknown)\n",
    "        #Adding the distance and point associated with that distance\n",
    "        distances.append([distance_to_point, title])\n",
    "    distances.sort()\n",
    "    #Taking only the k closest points\n",
    "    neighbors = distances[0:k]\n",
    "    num_good = 0\n",
    "    num_bad = 0\n",
    "    for neighbor in neighbors:\n",
    "        title = neighbor[1]\n",
    "        if labels[title] == 0:\n",
    "            num_bad += 1\n",
    "        elif labels[title] == 1:\n",
    "            num_good += 1\n",
    "    if num_good > num_bad:\n",
    "        return 1\n",
    "    else:\n",
    "        return 0\n",
    "\n",
    "print(classify([.4, .2, .9], movie_dataset, movie_labels, 5))"
   ]
  },
  {
   "cell_type": "markdown",
   "metadata": {},
   "source": [
    "## Normalize data"
   ]
  },
  {
   "cell_type": "code",
   "execution_count": 4,
   "metadata": {},
   "outputs": [
    {
     "name": "stdout",
     "output_type": "stream",
     "text": [
      "[0.047619047619047616, 0.8492063492063492, 0.8650793650793651]\n"
     ]
    }
   ],
   "source": [
    "release_dates = [1897, 1998, 2000, 1948, 1962, 1950, 1975, 1960, 2017, 1937, 1968, 1996, 1944, 1891, 1995, 1948, 2011, 1965, 1891, 1978]\n",
    "\n",
    "def min_max_normalize(lst):\n",
    "    minimum = min(lst)\n",
    "    maximum = max(lst)\n",
    "    diff = maximum - minimum\n",
    "    normalized = [(i-minimum)/diff for i in lst]\n",
    "    return normalized\n",
    "\n",
    "print(min_max_normalize(release_dates)[:3])"
   ]
  },
  {
   "cell_type": "code",
   "execution_count": 5,
   "metadata": {},
   "outputs": [
    {
     "data": {
      "text/plain": [
       "[0.0008947603884312745, 0.2509090909090909, 1.01]"
      ]
     },
     "execution_count": 5,
     "metadata": {},
     "output_type": "execute_result"
    }
   ],
   "source": [
    "def normalize_point(lst):\n",
    "    lst_col = ['budget', 'runtime', 'release_year']\n",
    "    for i in range(len(lst)):\n",
    "        min_v = dic_min_max[lst_col[i]][0]\n",
    "        max_v = dic_min_max[lst_col[i]][1]\n",
    "        norm_v = (lst[i] - min_v) / (max_v - min_v)\n",
    "        lst[i] = norm_v\n",
    "    return lst\n",
    "normalize_point([350000, 132, 2017])"
   ]
  },
  {
   "cell_type": "code",
   "execution_count": 6,
   "metadata": {},
   "outputs": [
    {
     "name": "stdout",
     "output_type": "stream",
     "text": [
      "False\n",
      "[0.0008947603884312745, 0.2509090909090909, 1.01]\n",
      "0\n"
     ]
    }
   ],
   "source": [
    "print(\"Call Me By Your Name\" in movie_dataset)\n",
    "my_movie = [350000, 132, 2017]\n",
    "normalized_my_movie = normalize_point(my_movie)\n",
    "print(normalized_my_movie)\n",
    "print(classify(normalized_my_movie, movie_dataset, movie_labels, 5))"
   ]
  },
  {
   "cell_type": "code",
   "execution_count": 7,
   "metadata": {},
   "outputs": [
    {
     "data": {
      "text/html": [
       "<div>\n",
       "<style scoped>\n",
       "    .dataframe tbody tr th:only-of-type {\n",
       "        vertical-align: middle;\n",
       "    }\n",
       "\n",
       "    .dataframe tbody tr th {\n",
       "        vertical-align: top;\n",
       "    }\n",
       "\n",
       "    .dataframe thead th {\n",
       "        text-align: right;\n",
       "    }\n",
       "</style>\n",
       "<table border=\"1\" class=\"dataframe\">\n",
       "  <thead>\n",
       "    <tr style=\"text-align: right;\">\n",
       "      <th></th>\n",
       "      <th>title</th>\n",
       "      <th>budget</th>\n",
       "      <th>release_year</th>\n",
       "      <th>runtime</th>\n",
       "      <th>vote_average</th>\n",
       "      <th>label</th>\n",
       "    </tr>\n",
       "  </thead>\n",
       "  <tbody>\n",
       "    <tr>\n",
       "      <th>0</th>\n",
       "      <td>Avatar</td>\n",
       "      <td>0.623674</td>\n",
       "      <td>0.93</td>\n",
       "      <td>0.360000</td>\n",
       "      <td>7.2</td>\n",
       "      <td>1</td>\n",
       "    </tr>\n",
       "    <tr>\n",
       "      <th>1</th>\n",
       "      <td>Pirates of the Caribbean: At World's End</td>\n",
       "      <td>0.789468</td>\n",
       "      <td>0.91</td>\n",
       "      <td>0.385455</td>\n",
       "      <td>6.9</td>\n",
       "      <td>0</td>\n",
       "    </tr>\n",
       "  </tbody>\n",
       "</table>\n",
       "</div>"
      ],
      "text/plain": [
       "                                      title    budget  release_year   runtime  \\\n",
       "0                                    Avatar  0.623674          0.93  0.360000   \n",
       "1  Pirates of the Caribbean: At World's End  0.789468          0.91  0.385455   \n",
       "\n",
       "   vote_average  label  \n",
       "0           7.2      1  \n",
       "1           6.9      0  "
      ]
     },
     "execution_count": 7,
     "metadata": {},
     "output_type": "execute_result"
    }
   ],
   "source": [
    "lst_cols = ['budget', 'runtime', 'release_year']\n",
    "df_norm = df.copy()\n",
    "df_norm[lst_cols] = (df_norm[lst_cols]-df_norm[lst_cols].min())/(df_norm[lst_cols].max()-df_norm[lst_cols].min())\n",
    "df_norm.head(2)"
   ]
  },
  {
   "cell_type": "markdown",
   "metadata": {},
   "source": [
    "## Creat random training set, testing set"
   ]
  },
  {
   "cell_type": "code",
   "execution_count": 8,
   "metadata": {},
   "outputs": [
    {
     "name": "stdout",
     "output_type": "stream",
     "text": [
      "3690\n",
      "[974, 2427, 2229]\n",
      "2952 738\n",
      "2951 737\n"
     ]
    }
   ],
   "source": [
    "import random\n",
    "\n",
    "print(len(df_norm))\n",
    "random.seed(3)\n",
    "lst_train_idx = random.sample(range(len(df_norm)), int(len(df_norm)*0.8))\n",
    "print(lst_train_idx[:3])\n",
    "df_train = df_norm[df_norm.index.isin(lst_train_idx)]\n",
    "df_val = df_norm[~df_norm.index.isin(lst_train_idx)]\n",
    "print(len(df_train), len(df_val))\n",
    "\n",
    "training_set, validation_set = {}, {}\n",
    "training_labels, validation_labels = {}, {}\n",
    "for i, k in enumerate(movie_dataset):\n",
    "    df_tmp = df_norm[df_norm['title']==k].reset_index(drop=True)\n",
    "    if i in lst_train_idx:\n",
    "        training_set[k] = [df_tmp.loc[0,'budget'], df_tmp.loc[0,'runtime'], df_tmp.loc[0,'release_year']]\n",
    "        training_labels[k] = movie_labels[k]\n",
    "    else:\n",
    "        validation_set[k] = [df_tmp.loc[0,'budget'], df_tmp.loc[0,'runtime'], df_tmp.loc[0,'release_year']]\n",
    "        validation_labels[k] = movie_labels[k]\n",
    "df_train.head(2)\n",
    "print(len(training_set), len(validation_set))"
   ]
  },
  {
   "cell_type": "code",
   "execution_count": 9,
   "metadata": {},
   "outputs": [
    {
     "name": "stdout",
     "output_type": "stream",
     "text": [
      "Spider-Man 3\n",
      "[0.6789389194452485, 0.27636363636363637, 0.91]\n",
      "0\n",
      "0\n",
      "Correct!\n"
     ]
    }
   ],
   "source": [
    "# Training and Validation Sets\n",
    "test = list(validation_set.keys())[0]\n",
    "print(test)\n",
    "print(validation_set[test])\n",
    "print(validation_labels[test])\n",
    "guess = classify(validation_set[test], training_set, training_labels, 5)\n",
    "print(guess)\n",
    "if guess == validation_labels[test]:\n",
    "    print(\"Correct!\")\n",
    "else:\n",
    "    print(\"Wrong!\")"
   ]
  },
  {
   "cell_type": "markdown",
   "metadata": {},
   "source": [
    "## Accuracy"
   ]
  },
  {
   "cell_type": "code",
   "execution_count": 10,
   "metadata": {},
   "outputs": [
    {
     "name": "stdout",
     "output_type": "stream",
     "text": [
      "0.7924016282225237\n"
     ]
    }
   ],
   "source": [
    "def find_validation_accuracy(training_set, training_labels, validation_set, validation_labels, k):\n",
    "    num_correct = 0.0\n",
    "    for title in validation_set:\n",
    "        guess = classify(validation_set[title], training_set, training_labels, k)\n",
    "        if guess == validation_labels[title]:\n",
    "            num_correct += 1\n",
    "    return num_correct / len(validation_set)\n",
    "\n",
    "print(find_validation_accuracy(training_set, training_labels, validation_set, validation_labels, 3))"
   ]
  },
  {
   "cell_type": "code",
   "execution_count": 11,
   "metadata": {},
   "outputs": [
    {
     "name": "stdout",
     "output_type": "stream",
     "text": [
      "[0 0 0]\n"
     ]
    }
   ],
   "source": [
    "from sklearn.neighbors import KNeighborsClassifier\n",
    "\n",
    "training_set_2 = [v for k, v in training_set.items()]\n",
    "training_labels_2 = [v for k, v in training_labels.items()]\n",
    "\n",
    "classifier = KNeighborsClassifier(5)\n",
    "\n",
    "classifier.fit(training_set_2, training_labels_2)\n",
    "lst = [[.45, .2, .5], [.25, .8, .9], [.1, .1, .9]]\n",
    "print(classifier.predict(lst))"
   ]
  },
  {
   "cell_type": "code",
   "execution_count": null,
   "metadata": {},
   "outputs": [],
   "source": []
  }
 ],
 "metadata": {
  "kernelspec": {
   "display_name": "Python 3",
   "language": "python",
   "name": "python3"
  },
  "language_info": {
   "codemirror_mode": {
    "name": "ipython",
    "version": 3
   },
   "file_extension": ".py",
   "mimetype": "text/x-python",
   "name": "python",
   "nbconvert_exporter": "python",
   "pygments_lexer": "ipython3",
   "version": "3.7.9"
  }
 },
 "nbformat": 4,
 "nbformat_minor": 4
}
